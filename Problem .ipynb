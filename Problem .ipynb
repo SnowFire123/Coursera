{
 "cells": [
  {
   "cell_type": "markdown",
   "metadata": {},
   "source": [
    "# Find best neighborhood in Toronto"
   ]
  },
  {
   "cell_type": "markdown",
   "metadata": {},
   "source": [
    "## Introduction"
   ]
  },
  {
   "cell_type": "markdown",
   "metadata": {},
   "source": [
    "It is very hard to find the right place to stay when moving into a new city. We don't know what is around us, whether it is safe, whether there're enough infrastructure around, and where to eat and buy gloceries. We also want to know about the price of the house and the fee we have to pay when we live there. Are there any schools around? Are there any transportation station easy to go? \n",
    "\n",
    "Suppose we are moving to Toronto next year, let's find the best neighborhood to live!"
   ]
  },
  {
   "cell_type": "markdown",
   "metadata": {},
   "source": [
    "## Problem Definition"
   ]
  },
  {
   "cell_type": "markdown",
   "metadata": {},
   "source": [
    "We want to identify what is a good place to stay in Greater Toronto Area. As a result, we also want to identify the price, location and kinds of the houses in the area"
   ]
  },
  {
   "cell_type": "markdown",
   "metadata": {},
   "source": [
    "# Mythodology"
   ]
  },
  {
   "cell_type": "markdown",
   "metadata": {},
   "source": [
    "The project will use Four-square API as its prime data gathering source. It will use  credentials of Foursquare API features of near-by places of the neighborhoods would be mined."
   ]
  }
 ],
 "metadata": {
  "kernelspec": {
   "display_name": "Python",
   "language": "python",
   "name": "conda-env-python-py"
  },
  "language_info": {
   "codemirror_mode": {
    "name": "ipython",
    "version": 3
   },
   "file_extension": ".py",
   "mimetype": "text/x-python",
   "name": "python",
   "nbconvert_exporter": "python",
   "pygments_lexer": "ipython3",
   "version": "3.6.12"
  }
 },
 "nbformat": 4,
 "nbformat_minor": 4
}
